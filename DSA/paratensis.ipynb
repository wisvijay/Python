{
 "cells": [
  {
   "cell_type": "markdown",
   "metadata": {},
   "source": [
    "## Validate Parentheses"
   ]
  },
  {
   "cell_type": "markdown",
   "metadata": {},
   "source": [
    "You are given a string s consisting of the following characters: '(', ')', '{', '}', '[' and ']'.\n",
    "\n",
    "The input string s is valid if and only if:\n",
    "\n",
    "Every open bracket is closed by the same type of close bracket.\n",
    "Open brackets are closed in the correct order.\n",
    "Every close bracket has a corresponding open bracket of the same type.\n",
    "Return true if s is a valid string, and false otherwise.\n",
    "\n",
    "Example 1:\n",
    "\n",
    "Input: s = \"[]\"\n",
    "\n",
    "Output: true\n",
    "Example 2:\n",
    "\n",
    "Input: s = \"([{}])\"\n",
    "\n",
    "Output: true\n",
    "Example 3:\n",
    "\n",
    "Input: s = \"[(])\"\n",
    "\n",
    "Output: false\n",
    "Explanation: The brackets are not closed in the correct order.\n",
    "\n",
    "Constraints:\n",
    "\n",
    "1 <= s.length <= 1000\n",
    "123\n",
    "class Solution:\n",
    "    def isValid(self, s: str) -> bool:\n",
    "        "
   ]
  },
  {
   "cell_type": "code",
   "execution_count": 18,
   "metadata": {},
   "outputs": [],
   "source": [
    "class Solution:\n",
    "    def isValid(self, s: str) -> bool:\n",
    "        closeBrac = {\"}\": \"{\", \")\": \"(\", \"]\": \"[\"}\n",
    "        stack = []\n",
    "        for c in s:\n",
    "            if c in closeBrac:\n",
    "                print(c)\n",
    "                top_element = stack.pop() if stack else '#'\n",
    "                if top_element != closeBrac[c]:\n",
    "                    return False\n",
    "            else:\n",
    "                stack.append(c)\n",
    "        return not stack"
   ]
  },
  {
   "cell_type": "code",
   "execution_count": 20,
   "metadata": {},
   "outputs": [
    {
     "name": "stdout",
     "output_type": "stream",
     "text": [
      "}\n",
      "]\n",
      ")\n",
      "True\n"
     ]
    }
   ],
   "source": [
    "sol = Solution()\n",
    "print(sol.isValid(\"([{}])\"))"
   ]
  }
 ],
 "metadata": {
  "kernelspec": {
   "display_name": ".venv",
   "language": "python",
   "name": "python3"
  },
  "language_info": {
   "codemirror_mode": {
    "name": "ipython",
    "version": 3
   },
   "file_extension": ".py",
   "mimetype": "text/x-python",
   "name": "python",
   "nbconvert_exporter": "python",
   "pygments_lexer": "ipython3",
   "version": "3.12.1"
  }
 },
 "nbformat": 4,
 "nbformat_minor": 2
}
